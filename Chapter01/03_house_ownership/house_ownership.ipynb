{
 "cells": [
  {
   "cell_type": "code",
   "execution_count": 1,
   "metadata": {},
   "outputs": [],
   "source": [
    "import pandas as pd\n",
    "import matplotlib.pyplot as plt\n",
    "import matplotlib.patches as mpatches\n",
    "import matplotlib\n",
    "\n",
    "from sklearn.neighbors import KNeighborsClassifier\n",
    "\n",
    "matplotlib.style.use('ggplot')"
   ]
  },
  {
   "cell_type": "code",
   "execution_count": 2,
   "metadata": {},
   "outputs": [],
   "source": [
    "data = 'ownership.csv'\n",
    "df = pd.read_csv(data, sep=';', index_col=False)\n",
    "df['annual_incoming_in_USD'] = pd.to_numeric(df['annual_incoming_in_USD'])"
   ]
  },
  {
   "cell_type": "code",
   "execution_count": 3,
   "metadata": {},
   "outputs": [
    {
     "data": {
      "text/html": [
       "<div>\n",
       "<style scoped>\n",
       "    .dataframe tbody tr th:only-of-type {\n",
       "        vertical-align: middle;\n",
       "    }\n",
       "\n",
       "    .dataframe tbody tr th {\n",
       "        vertical-align: top;\n",
       "    }\n",
       "\n",
       "    .dataframe thead th {\n",
       "        text-align: right;\n",
       "    }\n",
       "</style>\n",
       "<table border=\"1\" class=\"dataframe\">\n",
       "  <thead>\n",
       "    <tr style=\"text-align: right;\">\n",
       "      <th></th>\n",
       "      <th>age</th>\n",
       "      <th>annual_incoming_in_USD</th>\n",
       "      <th>house_ownership_status</th>\n",
       "    </tr>\n",
       "  </thead>\n",
       "  <tbody>\n",
       "    <tr>\n",
       "      <th>0</th>\n",
       "      <td>23</td>\n",
       "      <td>50000</td>\n",
       "      <td>Non-Owner</td>\n",
       "    </tr>\n",
       "    <tr>\n",
       "      <th>1</th>\n",
       "      <td>37</td>\n",
       "      <td>34000</td>\n",
       "      <td>Non-Owner</td>\n",
       "    </tr>\n",
       "    <tr>\n",
       "      <th>2</th>\n",
       "      <td>48</td>\n",
       "      <td>40000</td>\n",
       "      <td>Owner</td>\n",
       "    </tr>\n",
       "    <tr>\n",
       "      <th>3</th>\n",
       "      <td>52</td>\n",
       "      <td>30000</td>\n",
       "      <td>Non-Owner</td>\n",
       "    </tr>\n",
       "    <tr>\n",
       "      <th>4</th>\n",
       "      <td>28</td>\n",
       "      <td>95000</td>\n",
       "      <td>Owner</td>\n",
       "    </tr>\n",
       "    <tr>\n",
       "      <th>5</th>\n",
       "      <td>25</td>\n",
       "      <td>78000</td>\n",
       "      <td>Non-Owner</td>\n",
       "    </tr>\n",
       "    <tr>\n",
       "      <th>6</th>\n",
       "      <td>35</td>\n",
       "      <td>130000</td>\n",
       "      <td>Owner</td>\n",
       "    </tr>\n",
       "    <tr>\n",
       "      <th>7</th>\n",
       "      <td>32</td>\n",
       "      <td>105000</td>\n",
       "      <td>Owner</td>\n",
       "    </tr>\n",
       "    <tr>\n",
       "      <th>8</th>\n",
       "      <td>20</td>\n",
       "      <td>100000</td>\n",
       "      <td>Non-Owner</td>\n",
       "    </tr>\n",
       "    <tr>\n",
       "      <th>9</th>\n",
       "      <td>40</td>\n",
       "      <td>60000</td>\n",
       "      <td>Owner</td>\n",
       "    </tr>\n",
       "    <tr>\n",
       "      <th>10</th>\n",
       "      <td>50</td>\n",
       "      <td>80000</td>\n",
       "      <td>Peter</td>\n",
       "    </tr>\n",
       "  </tbody>\n",
       "</table>\n",
       "</div>"
      ],
      "text/plain": [
       "    age  annual_incoming_in_USD house_ownership_status\n",
       "0    23                   50000              Non-Owner\n",
       "1    37                   34000              Non-Owner\n",
       "2    48                   40000                  Owner\n",
       "3    52                   30000              Non-Owner\n",
       "4    28                   95000                  Owner\n",
       "5    25                   78000              Non-Owner\n",
       "6    35                  130000                  Owner\n",
       "7    32                  105000                  Owner\n",
       "8    20                  100000              Non-Owner\n",
       "9    40                   60000                  Owner\n",
       "10   50                   80000                  Peter"
      ]
     },
     "execution_count": 3,
     "metadata": {},
     "output_type": "execute_result"
    }
   ],
   "source": [
    "df"
   ]
  },
  {
   "cell_type": "code",
   "execution_count": 4,
   "metadata": {},
   "outputs": [
    {
     "data": {
      "image/png": "[encoded data removed]",
      "text/plain": [
       "<Figure size 432x288 with 1 Axes>"
      ]
     },
     "metadata": {
      "needs_background": "light"
     },
     "output_type": "display_data"
    }
   ],
   "source": [
    "plt.title('House Ownership')\n",
    "plt.xlabel('Age')\n",
    "plt.ylabel('Annual Incomming in USD')\n",
    "\n",
    "df.loc[df['house_ownership_status'] == 'Non-Owner', ['house_ownership_status']] = 'red'\n",
    "df.loc[df['house_ownership_status'] == 'Owner', ['house_ownership_status']] = 'green'\n",
    "df.loc[df['house_ownership_status'] == 'Peter', ['house_ownership_status']] = 'blue'\n",
    "\n",
    "blue_patch = mpatches.Patch(color='blue', label='Peter')\n",
    "red_patch = mpatches.Patch(color='red', label='Non-Owner')\n",
    "green_patch = mpatches.Patch(color='green', label='Owner')\n",
    "\n",
    "plt.legend(handles=[red_patch, blue_patch, green_patch])\n",
    "\n",
    "plt.xlim(0, df['age'].max() * 1.25)\n",
    "plt.ylim(0, df['annual_incoming_in_USD'].max() * 1.25)\n",
    "plt.scatter(df['age'], df['annual_incoming_in_USD'], c=df['house_ownership_status'], s=200)\n",
    "\n",
    "plt.show()"
   ]
  },
  {
   "cell_type": "code",
   "execution_count": 5,
   "metadata": {},
   "outputs": [],
   "source": [
    "X, Y = df[['age', 'annual_incoming_in_USD']][:-1].values.tolist(), df[['house_ownership_status']][:-1].values.tolist()"
   ]
  },
  {
   "cell_type": "code",
   "execution_count": 6,
   "metadata": {},
   "outputs": [],
   "source": [
    "neigh = KNeighborsClassifier(n_neighbors=1)"
   ]
  },
  {
   "cell_type": "code",
   "execution_count": 7,
   "metadata": {},
   "outputs": [
    {
     "name": "stderr",
     "output_type": "stream",
     "text": [
      "c:\\xampp\\htdocs\\data-science-algorithms-in-a-week\\.venv\\lib\\site-packages\\ipykernel_launcher.py:1: DataConversionWarning: A column-vector y was passed when a 1d array was expected. Please change the shape of y to (n_samples, ), for example using ravel().\n",
      "  \"\"\"Entry point for launching an IPython kernel.\n"
     ]
    },
    {
     "data": {
      "text/plain": [
       "KNeighborsClassifier(algorithm='auto', leaf_size=30, metric='minkowski',\n",
       "                     metric_params=None, n_jobs=None, n_neighbors=1, p=2,\n",
       "                     weights='uniform')"
      ]
     },
     "execution_count": 7,
     "metadata": {},
     "output_type": "execute_result"
    }
   ],
   "source": [
    "neigh.fit(X, Y)"
   ]
  },
  {
   "cell_type": "code",
   "execution_count": 8,
   "metadata": {},
   "outputs": [
    {
     "data": {
      "text/plain": [
       "[50, 80000]"
      ]
     },
     "execution_count": 8,
     "metadata": {},
     "output_type": "execute_result"
    }
   ],
   "source": [
    "peter = df[['age', 'annual_incoming_in_USD']].iloc[-1].values.tolist()\n",
    "peter"
   ]
  },
  {
   "cell_type": "code",
   "execution_count": 9,
   "metadata": {},
   "outputs": [
    {
     "name": "stdout",
     "output_type": "stream",
     "text": [
      "Non-Owner\n"
     ]
    }
   ],
   "source": [
    "result = neigh.predict([peter])\n",
    "\n",
    "if result[0] == 'red':\n",
    "    print('Non-Owner')\n",
    "else:\n",
    "    print('Owner')"
   ]
  },
  {
   "cell_type": "code",
   "execution_count": 10,
   "metadata": {},
   "outputs": [],
   "source": [
    "df['scaled_age'] = (df['age'] - df['age'].min()) / (df['age'].max() - df['age'].min())\n",
    "df['scaled_incoming'] = (df['annual_incoming_in_USD'] - df['annual_incoming_in_USD'].min()) / (df['annual_incoming_in_USD'].max() - df['annual_incoming_in_USD'].min())"
   ]
  },
  {
   "cell_type": "code",
   "execution_count": 11,
   "metadata": {},
   "outputs": [
    {
     "data": {
      "text/html": [
       "<div>\n",
       "<style scoped>\n",
       "    .dataframe tbody tr th:only-of-type {\n",
       "        vertical-align: middle;\n",
       "    }\n",
       "\n",
       "    .dataframe tbody tr th {\n",
       "        vertical-align: top;\n",
       "    }\n",
       "\n",
       "    .dataframe thead th {\n",
       "        text-align: right;\n",
       "    }\n",
       "</style>\n",
       "<table border=\"1\" class=\"dataframe\">\n",
       "  <thead>\n",
       "    <tr style=\"text-align: right;\">\n",
       "      <th></th>\n",
       "      <th>age</th>\n",
       "      <th>annual_incoming_in_USD</th>\n",
       "      <th>house_ownership_status</th>\n",
       "      <th>scaled_age</th>\n",
       "      <th>scaled_incoming</th>\n",
       "    </tr>\n",
       "  </thead>\n",
       "  <tbody>\n",
       "    <tr>\n",
       "      <th>0</th>\n",
       "      <td>23</td>\n",
       "      <td>50000</td>\n",
       "      <td>red</td>\n",
       "      <td>0.09375</td>\n",
       "      <td>0.20</td>\n",
       "    </tr>\n",
       "    <tr>\n",
       "      <th>1</th>\n",
       "      <td>37</td>\n",
       "      <td>34000</td>\n",
       "      <td>red</td>\n",
       "      <td>0.53125</td>\n",
       "      <td>0.04</td>\n",
       "    </tr>\n",
       "    <tr>\n",
       "      <th>2</th>\n",
       "      <td>48</td>\n",
       "      <td>40000</td>\n",
       "      <td>green</td>\n",
       "      <td>0.87500</td>\n",
       "      <td>0.10</td>\n",
       "    </tr>\n",
       "    <tr>\n",
       "      <th>3</th>\n",
       "      <td>52</td>\n",
       "      <td>30000</td>\n",
       "      <td>red</td>\n",
       "      <td>1.00000</td>\n",
       "      <td>0.00</td>\n",
       "    </tr>\n",
       "    <tr>\n",
       "      <th>4</th>\n",
       "      <td>28</td>\n",
       "      <td>95000</td>\n",
       "      <td>green</td>\n",
       "      <td>0.25000</td>\n",
       "      <td>0.65</td>\n",
       "    </tr>\n",
       "    <tr>\n",
       "      <th>5</th>\n",
       "      <td>25</td>\n",
       "      <td>78000</td>\n",
       "      <td>red</td>\n",
       "      <td>0.15625</td>\n",
       "      <td>0.48</td>\n",
       "    </tr>\n",
       "    <tr>\n",
       "      <th>6</th>\n",
       "      <td>35</td>\n",
       "      <td>130000</td>\n",
       "      <td>green</td>\n",
       "      <td>0.46875</td>\n",
       "      <td>1.00</td>\n",
       "    </tr>\n",
       "    <tr>\n",
       "      <th>7</th>\n",
       "      <td>32</td>\n",
       "      <td>105000</td>\n",
       "      <td>green</td>\n",
       "      <td>0.37500</td>\n",
       "      <td>0.75</td>\n",
       "    </tr>\n",
       "    <tr>\n",
       "      <th>8</th>\n",
       "      <td>20</td>\n",
       "      <td>100000</td>\n",
       "      <td>red</td>\n",
       "      <td>0.00000</td>\n",
       "      <td>0.70</td>\n",
       "    </tr>\n",
       "    <tr>\n",
       "      <th>9</th>\n",
       "      <td>40</td>\n",
       "      <td>60000</td>\n",
       "      <td>green</td>\n",
       "      <td>0.62500</td>\n",
       "      <td>0.30</td>\n",
       "    </tr>\n",
       "    <tr>\n",
       "      <th>10</th>\n",
       "      <td>50</td>\n",
       "      <td>80000</td>\n",
       "      <td>blue</td>\n",
       "      <td>0.93750</td>\n",
       "      <td>0.50</td>\n",
       "    </tr>\n",
       "  </tbody>\n",
       "</table>\n",
       "</div>"
      ],
      "text/plain": [
       "    age  annual_incoming_in_USD house_ownership_status  scaled_age  \\\n",
       "0    23                   50000                    red     0.09375   \n",
       "1    37                   34000                    red     0.53125   \n",
       "2    48                   40000                  green     0.87500   \n",
       "3    52                   30000                    red     1.00000   \n",
       "4    28                   95000                  green     0.25000   \n",
       "5    25                   78000                    red     0.15625   \n",
       "6    35                  130000                  green     0.46875   \n",
       "7    32                  105000                  green     0.37500   \n",
       "8    20                  100000                    red     0.00000   \n",
       "9    40                   60000                  green     0.62500   \n",
       "10   50                   80000                   blue     0.93750   \n",
       "\n",
       "    scaled_incoming  \n",
       "0              0.20  \n",
       "1              0.04  \n",
       "2              0.10  \n",
       "3              0.00  \n",
       "4              0.65  \n",
       "5              0.48  \n",
       "6              1.00  \n",
       "7              0.75  \n",
       "8              0.70  \n",
       "9              0.30  \n",
       "10             0.50  "
      ]
     },
     "execution_count": 11,
     "metadata": {},
     "output_type": "execute_result"
    }
   ],
   "source": [
    "df"
   ]
  },
  {
   "cell_type": "code",
   "execution_count": 12,
   "metadata": {},
   "outputs": [
    {
     "data": {
      "text/plain": [
       "[50, 80000, 0.9375, -29999.615384615383]"
      ]
     },
     "execution_count": 12,
     "metadata": {},
     "output_type": "execute_result"
    }
   ],
   "source": [
    "X = df[['age', 'annual_incoming_in_USD', 'scaled_age', 'scaled_incoming']].values.tolist()\n",
    "Y = df['house_ownership_status']\n",
    "\n",
    "peter.append((peter[0] - df['age'].min()) / (df['age'].max() - df['age'].min()))\n",
    "peter.append((peter[1] - df['annual_incoming_in_USD'].min()) / (df['annual_incoming_in_USD'].max()) - df['annual_incoming_in_USD'].min())\n",
    "peter"
   ]
  },
  {
   "cell_type": "code",
   "execution_count": 13,
   "metadata": {},
   "outputs": [],
   "source": [
    "neigh = KNeighborsClassifier(n_neighbors=1)"
   ]
  },
  {
   "cell_type": "code",
   "execution_count": 14,
   "metadata": {},
   "outputs": [
    {
     "data": {
      "text/plain": [
       "KNeighborsClassifier(algorithm='auto', leaf_size=30, metric='minkowski',\n",
       "                     metric_params=None, n_jobs=None, n_neighbors=1, p=2,\n",
       "                     weights='uniform')"
      ]
     },
     "execution_count": 14,
     "metadata": {},
     "output_type": "execute_result"
    }
   ],
   "source": [
    "neigh.fit(X, Y)"
   ]
  },
  {
   "cell_type": "code",
   "execution_count": 15,
   "metadata": {},
   "outputs": [
    {
     "name": "stdout",
     "output_type": "stream",
     "text": [
      "Owner\n"
     ]
    }
   ],
   "source": [
    "result = neigh.predict([peter])\n",
    "\n",
    "if result[0] == 'red':\n",
    "    print('Non-Owner')\n",
    "else:\n",
    "    print('Owner')"
   ]
  },
  {
   "cell_type": "code",
   "execution_count": 16,
   "metadata": {},
   "outputs": [],
   "source": [
    "X = df[['scaled_age', 'scaled_incoming']].values.tolist()"
   ]
  },
  {
   "cell_type": "code",
   "execution_count": 17,
   "metadata": {},
   "outputs": [],
   "source": [
    "neigh = KNeighborsClassifier(n_neighbors=1)"
   ]
  },
  {
   "cell_type": "code",
   "execution_count": 18,
   "metadata": {
    "scrolled": true
   },
   "outputs": [
    {
     "data": {
      "text/plain": [
       "KNeighborsClassifier(algorithm='auto', leaf_size=30, metric='minkowski',\n",
       "                     metric_params=None, n_jobs=None, n_neighbors=1, p=2,\n",
       "                     weights='uniform')"
      ]
     },
     "execution_count": 18,
     "metadata": {},
     "output_type": "execute_result"
    }
   ],
   "source": [
    "neigh.fit(X, Y)"
   ]
  },
  {
   "cell_type": "code",
   "execution_count": 19,
   "metadata": {},
   "outputs": [
    {
     "name": "stdout",
     "output_type": "stream",
     "text": [
      "Non-Owner\n"
     ]
    }
   ],
   "source": [
    "result = neigh.predict([peter[-2:]])\n",
    "\n",
    "if result[0] == 'red':\n",
    "    print('Non-Owner')\n",
    "else:\n",
    "    print('Owner')"
   ]
  }
 ],
 "metadata": {
  "kernelspec": {
   "display_name": "Python 3",
   "language": "python",
   "name": "python3"
  },
  "language_info": {
   "codemirror_mode": {
    "name": "ipython",
    "version": 3
   },
   "file_extension": ".py",
   "mimetype": "text/x-python",
   "name": "python",
   "nbconvert_exporter": "python",
   "pygments_lexer": "ipython3",
   "version": "3.7.3"
  }
 },
 "nbformat": 4,
 "nbformat_minor": 2
}
