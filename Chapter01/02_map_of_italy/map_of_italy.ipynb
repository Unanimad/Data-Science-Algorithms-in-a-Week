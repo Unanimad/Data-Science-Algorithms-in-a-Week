{
 "cells": [
  {
   "cell_type": "code",
   "execution_count": 1,
   "metadata": {},
   "outputs": [],
   "source": [
    "import itertools\n",
    "import math\n",
    "\n",
    "from sklearn.neighbors import KNeighborsClassifier"
   ]
  },
  {
   "cell_type": "code",
   "execution_count": 2,
   "metadata": {},
   "outputs": [],
   "source": [
    "italy = 'italy.pgm'\n",
    "image = 'italy_100partial.pgm'\n",
    "imagek1 = 'italy-k1.pgm'\n",
    "imagek3 = 'italy-k3.pgm'\n",
    "imagek5 = 'italy-k5.pgm'\n",
    "imagek7 = 'italy-k7.pgm'\n",
    "imagek9 = 'italy-k9.pgm'"
   ]
  },
  {
   "cell_type": "code",
   "execution_count": 3,
   "metadata": {},
   "outputs": [],
   "source": [
    "def load_pgm(file_name):\n",
    "    f = open(file_name, 'r')\n",
    "    # read header\n",
    "    header = f.readline()\n",
    "    if header != 'P2\\n':\n",
    "        raise ValueError(file_name + ' is not a PGM image.')\n",
    "    dims = (f.readline()).split()\n",
    "    width = int(dims[0])\n",
    "    height = int(dims[1])\n",
    "    max_color = int(f.readline())\n",
    "\n",
    "    # read the picture\n",
    "    pixels = (f.read()).split()\n",
    "    img = {}\n",
    "    \n",
    "    for y in range(0, height):\n",
    "        for x in range(0, width):\n",
    "            img[x, y] = pixels[x + y * width]\n",
    "            \n",
    "    return (img, width, height, max_color)\n",
    "\n",
    "def pgm_to_img(file_name, img, width, height, max_color):\n",
    "    f = open(file_name, 'w')\n",
    "    f.write('P2\\n')\n",
    "    f.write(str(width) + ' ' + str(height) + '\\n')\n",
    "    f.write(str(max_color) + '\\n')\n",
    "    \n",
    "    for y in range(0, height):\n",
    "        for x in range(0, width):\n",
    "            f.write(str(img.get((x, y), max_color)) + ' ')\n",
    "        f.write('\\n')"
   ]
  },
  {
   "cell_type": "code",
   "execution_count": 4,
   "metadata": {},
   "outputs": [
    {
     "name": "stdout",
     "output_type": "stream",
     "text": [
      "346000, 500, 692, 2\n"
     ]
    }
   ],
   "source": [
    "(img_raw, width, height, max_color) = load_pgm(image)\n",
    "print(f'{len(img_raw)}, {width}, {height}, {max_color}')"
   ]
  },
  {
   "cell_type": "code",
   "execution_count": 5,
   "metadata": {},
   "outputs": [],
   "source": [
    "pixels = list(itertools.product(range(0, width + 1), range(0, height + 1)))"
   ]
  },
  {
   "cell_type": "code",
   "execution_count": 6,
   "metadata": {},
   "outputs": [],
   "source": [
    "X, Y = [], []\n",
    "\n",
    "img = {}\n",
    "\n",
    "for (x, y), color in img_raw.items():\n",
    "    if int(color) != max_color:\n",
    "        X.append([x, y])\n",
    "        Y.append(int(color))\n",
    "        \n",
    "        img[x, y] = color"
   ]
  },
  {
   "cell_type": "code",
   "execution_count": 7,
   "metadata": {},
   "outputs": [],
   "source": [
    "neigh = KNeighborsClassifier(n_neighbors=1)\n",
    "neigh.fit(list(img), Y)\n",
    "\n",
    "new_img = []\n",
    "\n",
    "for pixel in pixels:\n",
    "    width = pixel[0]\n",
    "    height = pixel[1]\n",
    "    \n",
    "    new_img.append([(pixel[0], pixel[1]), neigh.predict([[width, height]])[0]])\n",
    "\n",
    "pgm_to_img(imagek1, dict(new_img), width, height, max_color)"
   ]
  },
  {
   "cell_type": "code",
   "execution_count": 8,
   "metadata": {},
   "outputs": [],
   "source": [
    "neigh = KNeighborsClassifier(n_neighbors=3)\n",
    "neigh.fit(list(img), Y)\n",
    "\n",
    "new_img = []\n",
    "\n",
    "for pixel in pixels:\n",
    "    width = pixel[0]\n",
    "    height = pixel[1]\n",
    "    \n",
    "    new_img.append([(pixel[0], pixel[1]), neigh.predict([[width, height]])[0]])\n",
    "    \n",
    "pgm_to_img(imagek3, dict(new_img), width, height, max_color)"
   ]
  },
  {
   "cell_type": "code",
   "execution_count": 9,
   "metadata": {},
   "outputs": [],
   "source": [
    "neigh = KNeighborsClassifier(n_neighbors=5)\n",
    "neigh.fit(list(img), Y)\n",
    "\n",
    "new_img = []\n",
    "\n",
    "for pixel in pixels:\n",
    "    width = pixel[0]\n",
    "    height = pixel[1]\n",
    "    \n",
    "    new_img.append([(pixel[0], pixel[1]), neigh.predict([[width, height]])[0]])\n",
    "    \n",
    "pgm_to_img(imagek5, dict(new_img), width, height, max_color)"
   ]
  },
  {
   "cell_type": "code",
   "execution_count": 10,
   "metadata": {},
   "outputs": [],
   "source": [
    "neigh = KNeighborsClassifier(n_neighbors=7)\n",
    "neigh.fit(list(img), Y)\n",
    "\n",
    "new_img = []\n",
    "\n",
    "for pixel in pixels:\n",
    "    width = pixel[0]\n",
    "    height = pixel[1]\n",
    "    \n",
    "    new_img.append([(pixel[0], pixel[1]), neigh.predict([[width, height]])[0]])\n",
    "    \n",
    "pgm_to_img(imagek7, dict(new_img), width, height, max_color)"
   ]
  },
  {
   "cell_type": "code",
   "execution_count": 11,
   "metadata": {},
   "outputs": [],
   "source": [
    "neigh = KNeighborsClassifier(n_neighbors=9)\n",
    "neigh.fit(list(img), Y)\n",
    "\n",
    "new_img = []\n",
    "\n",
    "for pixel in pixels:\n",
    "    width = pixel[0]\n",
    "    height = pixel[1]\n",
    "    \n",
    "    new_img.append([(pixel[0], pixel[1]), neigh.predict([[width, height]])[0]])\n",
    "    \n",
    "pgm_to_img(imagek9, dict(new_img), width, height, max_color)"
   ]
  },
  {
   "cell_type": "code",
   "execution_count": 12,
   "metadata": {},
   "outputs": [],
   "source": [
    "(complete_image, width, height, max_color) = load_pgm(italy)\n",
    "(complete_imagek1, widthk1, heightk1, max_colork1) = load_pgm(imagek1)\n",
    "(complete_imagek3, widthk3, heightk3, max_colork3) = load_pgm(imagek3)\n",
    "(complete_imagek5, widthk5, heightk5, max_colork5) = load_pgm(imagek5)\n",
    "(complete_imagek7, widthk7, heightk7, max_colork7) = load_pgm(imagek7)\n",
    "(complete_imagek9, widthk9, heightk9, max_colork9) = load_pgm(imagek9)"
   ]
  },
  {
   "cell_type": "code",
   "execution_count": 14,
   "metadata": {},
   "outputs": [
    {
     "name": "stdout",
     "output_type": "stream",
     "text": [
      "Error rate K=1: 0.029809248554913296\n"
     ]
    }
   ],
   "source": [
    "if width != widthk1 or height != heightk1:\n",
    "    raise ValueError('The image dimensions are not compatible between' +\n",
    "                     ' the images \"' +\n",
    "                     complete_image + '\" and \"' + complete_imagek1 + '\".')\n",
    "\n",
    "error_count = 0\n",
    "\n",
    "for y in range(0, height):\n",
    "    for x in range(0, width):\n",
    "        error_count += int(complete_image[x, y] != complete_imagek1[x, y])\n",
    "\n",
    "total_pixels = width * height\n",
    "error_rate = float(error_count) / total_pixels\n",
    "print(f'Error rate K=1: {error_rate}')"
   ]
  },
  {
   "cell_type": "code",
   "execution_count": 15,
   "metadata": {},
   "outputs": [
    {
     "name": "stdout",
     "output_type": "stream",
     "text": [
      "Error rate K=3: 0.03242196531791908\n"
     ]
    }
   ],
   "source": [
    "if width != widthk3 or height != heightk3:\n",
    "    raise ValueError('The image dimensions are not compatible between' +\n",
    "                     ' the images \"' +\n",
    "                     completed_image + '\" and \"' + complete_imagek3 + '\".')\n",
    "\n",
    "error_count = 0\n",
    "\n",
    "for y in range(0, height):\n",
    "    for x in range(0, width):\n",
    "        error_count += int(complete_image[x, y] != complete_imagek3[x, y])\n",
    "\n",
    "total_pixels = width * height\n",
    "error_rate = float(error_count) / total_pixels\n",
    "print(f'Error rate K=3: {error_rate}')"
   ]
  },
  {
   "cell_type": "code",
   "execution_count": 16,
   "metadata": {},
   "outputs": [
    {
     "name": "stdout",
     "output_type": "stream",
     "text": [
      "Error rate K=5: 0.03283236994219653\n"
     ]
    }
   ],
   "source": [
    "if width != widthk5 or height != heightk5:\n",
    "    raise ValueError('The image dimensions are not compatible between' +\n",
    "                     ' the images \"' +\n",
    "                     completed_image + '\" and \"' + complete_imagek5 + '\".')\n",
    "\n",
    "error_count = 0\n",
    "\n",
    "for y in range(0, height):\n",
    "    for x in range(0, width):\n",
    "        error_count += int(complete_image[x, y] != complete_imagek5[x, y])\n",
    "\n",
    "total_pixels = width * height\n",
    "error_rate = float(error_count) / total_pixels\n",
    "print(f'Error rate K=5: {error_rate}')"
   ]
  },
  {
   "cell_type": "code",
   "execution_count": 17,
   "metadata": {},
   "outputs": [
    {
     "name": "stdout",
     "output_type": "stream",
     "text": [
      "Error rate K=7: 0.03404335260115607\n"
     ]
    }
   ],
   "source": [
    "if width != widthk7 or height != heightk7:\n",
    "    raise ValueError('The image dimensions are not compatible between' +\n",
    "                     ' the images \"' +\n",
    "                     completed_image + '\" and \"' + complete_imagek7 + '\".')\n",
    "\n",
    "error_count = 0\n",
    "\n",
    "for y in range(0, height):\n",
    "    for x in range(0, width):\n",
    "        error_count += int(complete_image[x, y] != complete_imagek7[x, y])\n",
    "\n",
    "total_pixels = width * height\n",
    "error_rate = float(error_count) / total_pixels\n",
    "print(f'Error rate K=7: {error_rate}')"
   ]
  },
  {
   "cell_type": "code",
   "execution_count": 18,
   "metadata": {},
   "outputs": [
    {
     "name": "stdout",
     "output_type": "stream",
     "text": [
      "Error rate K=9: 0.03572543352601156\n"
     ]
    }
   ],
   "source": [
    "if width != widthk9 or height != heightk9:\n",
    "    raise ValueError('The image dimensions are not compatible between' +\n",
    "                     ' the images \"' +\n",
    "                     completed_image + '\" and \"' + complete_imagek9 + '\".')\n",
    "\n",
    "error_count = 0\n",
    "\n",
    "for y in range(0, height):\n",
    "    for x in range(0, width):\n",
    "        error_count += int(complete_image[x, y] != complete_imagek9[x, y])\n",
    "\n",
    "total_pixels = width * height\n",
    "error_rate = float(error_count) / total_pixels\n",
    "print(f'Error rate K=9: {error_rate}')"
   ]
  }
 ],
 "metadata": {
  "kernelspec": {
   "display_name": "Python 3",
   "language": "python",
   "name": "python3"
  },
  "language_info": {
   "codemirror_mode": {
    "name": "ipython",
    "version": 3
   },
   "file_extension": ".py",
   "mimetype": "text/x-python",
   "name": "python",
   "nbconvert_exporter": "python",
   "pygments_lexer": "ipython3",
   "version": "3.7.3"
  }
 },
 "nbformat": 4,
 "nbformat_minor": 2
}
