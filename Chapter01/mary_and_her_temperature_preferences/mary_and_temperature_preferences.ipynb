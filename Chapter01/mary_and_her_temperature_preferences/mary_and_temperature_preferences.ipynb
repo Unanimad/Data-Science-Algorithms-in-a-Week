{
 "cells": [
  {
   "cell_type": "code",
   "execution_count": 1,
   "metadata": {},
   "outputs": [],
   "source": [
    "import itertools\n",
    "\n",
    "import pandas as pd\n",
    "import matplotlib.pyplot as plt\n",
    "import matplotlib.patches as mpatches\n",
    "import matplotlib\n",
    "\n",
    "from sklearn.neighbors import KNeighborsClassifier\n",
    "\n",
    "matplotlib.style.use('ggplot')"
   ]
  },
  {
   "cell_type": "code",
   "execution_count": 2,
   "metadata": {},
   "outputs": [
    {
     "name": "stdout",
     "output_type": "stream",
     "text": [
      "10 0 cold\n",
      "25 0 warm\n",
      "15 5 cold\n",
      "20 3 warm\n",
      "18 7 cold\n",
      "20 10 cold\n",
      "22 5 warm\n",
      "24 6 warm\n"
     ]
    }
   ],
   "source": [
    "data = 'mary_and_temperature_preferences.txt'\n",
    "print(open(data, 'r').read())"
   ]
  },
  {
   "cell_type": "code",
   "execution_count": 3,
   "metadata": {},
   "outputs": [
    {
     "name": "stdout",
     "output_type": "stream",
     "text": [
      "[[10, 0], [25, 0], [15, 5], [20, 3], [18, 7], [20, 10], [22, 5], [24, 6]] ['cold', 'warm', 'cold', 'warm', 'cold', 'cold', 'warm', 'warm']\n"
     ]
    }
   ],
   "source": [
    "X, Y, temperatures = [], [], []\n",
    "\n",
    "with open(data, 'r') as reader:\n",
    "    line = reader.readline()\n",
    "    \n",
    "    while line != '':\n",
    "        preferences = line.split()\n",
    "\n",
    "        X.append([int(preferences[0]), int(preferences[1])])\n",
    "        Y.append(preferences[2])\n",
    "\n",
    "        line = reader.readline()\n",
    "    \n",
    "print(X, Y)"
   ]
  },
  {
   "cell_type": "code",
   "execution_count": 4,
   "metadata": {},
   "outputs": [],
   "source": [
    "neigh = KNeighborsClassifier(n_neighbors=1)"
   ]
  },
  {
   "cell_type": "code",
   "execution_count": 5,
   "metadata": {},
   "outputs": [
    {
     "data": {
      "text/plain": [
       "KNeighborsClassifier(algorithm='auto', leaf_size=30, metric='minkowski',\n",
       "                     metric_params=None, n_jobs=None, n_neighbors=1, p=2,\n",
       "                     weights='uniform')"
      ]
     },
     "execution_count": 5,
     "metadata": {},
     "output_type": "execute_result"
    }
   ],
   "source": [
    "neigh.fit(X, Y)"
   ]
  },
  {
   "cell_type": "code",
   "execution_count": 6,
   "metadata": {},
   "outputs": [
    {
     "data": {
      "text/plain": [
       "array(['cold'], dtype='<U4')"
      ]
     },
     "execution_count": 6,
     "metadata": {},
     "output_type": "execute_result"
    }
   ],
   "source": [
    "neigh.predict([[15, 5]])"
   ]
  },
  {
   "cell_type": "code",
   "execution_count": 7,
   "metadata": {},
   "outputs": [
    {
     "name": "stdout",
     "output_type": "stream",
     "text": [
      "286\n"
     ]
    }
   ],
   "source": [
    "min_temp = 5\n",
    "max_temp = 30\n",
    "min_wind = 0\n",
    "max_wind = 10\n",
    "\n",
    "output = 'mary_and_temperature_preferences_completed2.txt'\n",
    "\n",
    "climates = list(itertools.product(range(min_temp, max_temp + 1), range(min_wind, max_wind + 1)))\n",
    "print(len(climates))"
   ]
  },
  {
   "cell_type": "code",
   "execution_count": 8,
   "metadata": {},
   "outputs": [],
   "source": [
    "for climate in climates:\n",
    "    temp = climate[0]\n",
    "    wind = climate[1]\n",
    "    \n",
    "    temperatures.append([temp, wind, neigh.predict([[temp, wind]])[0]])"
   ]
  },
  {
   "cell_type": "code",
   "execution_count": 10,
   "metadata": {},
   "outputs": [],
   "source": [
    "df = pd.DataFrame(temperatures)\n",
    "df.columns = ['temp', 'wind', 'perception']\n",
    "\n",
    "# Change the perception to colors to plt\n",
    "df.loc[df['perception'] == 'warm', ['perception']] = 'red'\n",
    "df.loc[df['perception'] == 'cold', ['perception']] = 'blue'"
   ]
  },
  {
   "cell_type": "code",
   "execution_count": 11,
   "metadata": {},
   "outputs": [
    {
     "data": {
      "image/png": "[encoded data removed]",
      "text/plain": [
       "<Figure size 432x288 with 1 Axes>"
      ]
     },
     "metadata": {
      "needs_background": "light"
     },
     "output_type": "display_data"
    }
   ],
   "source": [
    "plt.title('Mary and her temperature preferences')\n",
    "plt.xlabel('Temperature in Cº')\n",
    "plt.ylabel('Wind in KM/H')\n",
    "plt.axis([min_temp, max_temp, min_wind, max_wind])\n",
    "\n",
    "blue_patch = mpatches.Patch(color='blue', label='cold')\n",
    "red_patch = mpatches.Patch(color='red', label='warm')\n",
    "\n",
    "plt.legend(handles=[blue_patch, red_patch])\n",
    "plt.scatter(df['temp'], df['wind'], c=df['perception'], s=[1400] * len(df))\n",
    "\n",
    "plt.show()"
   ]
  }
 ],
 "metadata": {
  "kernelspec": {
   "display_name": "Python 3",
   "language": "python",
   "name": "python3"
  },
  "language_info": {
   "codemirror_mode": {
    "name": "ipython",
    "version": 3
   },
   "file_extension": ".py",
   "mimetype": "text/x-python",
   "name": "python",
   "nbconvert_exporter": "python",
   "pygments_lexer": "ipython3",
   "version": "3.7.3"
  }
 },
 "nbformat": 4,
 "nbformat_minor": 2
}
